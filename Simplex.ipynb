{
 "cells": [
  {
   "attachments": {},
   "cell_type": "markdown",
   "metadata": {},
   "source": [
    "Importações necessárias"
   ]
  },
  {
   "cell_type": "code",
   "execution_count": 1,
   "metadata": {},
   "outputs": [],
   "source": [
    "from math import *"
   ]
  },
  {
   "attachments": {},
   "cell_type": "markdown",
   "metadata": {},
   "source": [
    "Gerar Matrix"
   ]
  },
  {
   "cell_type": "code",
   "execution_count": 2,
   "metadata": {},
   "outputs": [],
   "source": [
    "def createMatrix(line:int, column:int) -> list:\n",
    "    matrix = [[0 for _ in range(column)] for _ in range(line)]\n",
    "    return matrix"
   ]
  },
  {
   "attachments": {},
   "cell_type": "markdown",
   "metadata": {},
   "source": [
    "Pivoteamento"
   ]
  },
  {
   "cell_type": "code",
   "execution_count": 3,
   "metadata": {},
   "outputs": [],
   "source": [
    "def pivMatrix(matrix:list, lineColumnPiv:int, termsInd:list) -> list:\n",
    "    pivo = matrix[lineColumnPiv][lineColumnPiv]\n",
    "    l_pivo = lineColumnPiv\n",
    "    for i in range(lineColumnPiv + 1, len(matrix)):\n",
    "        if abs(matrix[i][lineColumnPiv]) > abs(pivo):\n",
    "            pivo = matrix[i][lineColumnPiv]\n",
    "            l_pivo = i\n",
    "    if pivo == 0:\n",
    "        return \"Singular\"\n",
    "    if l_pivo != lineColumnPiv:\n",
    "        for j in range(1, len(matrix)):\n",
    "            troca = matrix[lineColumnPiv][j]\n",
    "            matrix[lineColumnPiv][j] = l_pivo\n",
    "            matrix[l_pivo][j] = troca\n",
    "        troca = termsInd[lineColumnPiv]\n",
    "        termsInd[lineColumnPiv] = termsInd[l_pivo]\n",
    "        termsInd[l_pivo] = troca\n",
    "    return matrix"
   ]
  },
  {
   "attachments": {},
   "cell_type": "markdown",
   "metadata": {},
   "source": [
    "Debug"
   ]
  },
  {
   "cell_type": "code",
   "execution_count": null,
   "metadata": {},
   "outputs": [],
   "source": [
    "def main():\n",
    "    matrix = createMatrix(3, 3)\n",
    "    termsInd = [0 for _ in range(3)]\n",
    "    for i in range(3):\n",
    "        for j in range(3):\n",
    "            matrix[i][j] = int(input())\n",
    "    for i in range(3):\n",
    "        termsInd[i] = int(input())\n",
    "    pivMatrix(matrix, 0, termsInd)\n",
    "    print(matrix)\n",
    "\n",
    "if __name__ == \"__main__\":\n",
    "    main()"
   ]
  },
  {
   "cell_type": "code",
   "execution_count": null,
   "metadata": {},
   "outputs": [],
   "source": []
  }
 ],
 "metadata": {
  "kernelspec": {
   "display_name": "Python 3",
   "language": "python",
   "name": "python3"
  },
  "language_info": {
   "codemirror_mode": {
    "name": "ipython",
    "version": 3
   },
   "file_extension": ".py",
   "mimetype": "text/x-python",
   "name": "python",
   "nbconvert_exporter": "python",
   "pygments_lexer": "ipython3",
   "version": "3.10.6"
  },
  "orig_nbformat": 4
 },
 "nbformat": 4,
 "nbformat_minor": 2
}
